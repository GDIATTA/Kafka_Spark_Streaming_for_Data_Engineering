{
 "cells": [
  {
   "cell_type": "code",
   "execution_count": 18,
   "id": "777ae2bd-6466-40a9-a89f-5980ac8c358f",
   "metadata": {},
   "outputs": [
    {
     "data": {
      "text/html": [
       "\n",
       "            <div>\n",
       "                <p><b>SparkSession - in-memory</b></p>\n",
       "                \n",
       "        <div>\n",
       "            <p><b>SparkContext</b></p>\n",
       "\n",
       "            <p><a href=\"http://18a1253309c6:4040\">Spark UI</a></p>\n",
       "\n",
       "            <dl>\n",
       "              <dt>Version</dt>\n",
       "                <dd><code>v3.3.0</code></dd>\n",
       "              <dt>Master</dt>\n",
       "                <dd><code>local[*]</code></dd>\n",
       "              <dt>AppName</dt>\n",
       "                <dd><code>Streaming from Kafka</code></dd>\n",
       "            </dl>\n",
       "        </div>\n",
       "        \n",
       "            </div>\n",
       "        "
      ],
      "text/plain": [
       "<pyspark.sql.session.SparkSession at 0x7fc56c3783a0>"
      ]
     },
     "execution_count": 18,
     "metadata": {},
     "output_type": "execute_result"
    }
   ],
   "source": [
    "# Create the Spark Session\n",
    "from pyspark.sql import SparkSession\n",
    "\n",
    "spark = (\n",
    "    SparkSession \n",
    "    .builder \n",
    "    .appName(\"Streaming from Kafka\") \n",
    "    .config(\"spark.streaming.stopGracefullyOnShutdown\", True)\n",
    "    .config('spark.jars.packages', \"org.apache.spark:spark-sql-kafka-0-10_2.12:3.3.0,com.datastax.spark:spark-cassandra-connector_2.12:3.3.0\")\n",
    "    #.config(\"spark.jars.packages\", \"com.datastax.spark:spark-cassandra-connector_2.12:3.3.0\")\n",
    "    .config('spark.cassandra.connection.host', ' 172.18.0.2')\n",
    "    .config(\"spark.sql.extensions\", \"com.datastax.spark.connector.CassandraSparkExtensions\")\n",
    "    .config(\"spark.sql.catalog.myCatalog\", \"com.datastax.spark.connector.datasource.CassandraCatalog\")\n",
    "    .config(\"spark.sql.shuffle.partitions\", 4)\n",
    "    .master(\"local[*]\") \n",
    "    .getOrCreate()\n",
    ")\n",
    "\n",
    "spark"
   ]
  },
  {
   "cell_type": "code",
   "execution_count": 19,
   "id": "40f9b68d-9236-43b0-8f7e-ef4d6a338b89",
   "metadata": {},
   "outputs": [],
   "source": [
    "# Create the kafka_df to read from kafka\n",
    "\n",
    "kafka_df = (\n",
    "    spark\n",
    "    .readStream\n",
    "    .format(\"kafka\")\n",
    "    .option(\"kafka.bootstrap.servers\", \"kafka:29092\")\n",
    "    .option(\"subscribe\", \"users_created\")\n",
    "    .option(\"startingOffsets\", \"earliest\")\n",
    "    .load()\n",
    ")"
   ]
  },
  {
   "cell_type": "code",
   "execution_count": 20,
   "id": "424615bb-898b-4147-985c-183e0ecc394a",
   "metadata": {},
   "outputs": [
    {
     "name": "stdout",
     "output_type": "stream",
     "text": [
      "root\n",
      " |-- key: binary (nullable = true)\n",
      " |-- value: binary (nullable = true)\n",
      " |-- topic: string (nullable = true)\n",
      " |-- partition: integer (nullable = true)\n",
      " |-- offset: long (nullable = true)\n",
      " |-- timestamp: timestamp (nullable = true)\n",
      " |-- timestampType: integer (nullable = true)\n",
      "\n"
     ]
    }
   ],
   "source": [
    "# View schema for raw kafka_df\n",
    "kafka_df.printSchema()\n",
    "#kafka_df.show()"
   ]
  },
  {
   "cell_type": "code",
   "execution_count": 21,
   "id": "d496e7bc-4d92-4e17-99f6-63e3b48e221c",
   "metadata": {},
   "outputs": [],
   "source": [
    "from pyspark.sql.types import StringType, StructField, StructType, ArrayType, LongType\n",
    "schema = StructType([\n",
    "        #StructField(\"id\", StringType(), False),\n",
    "        StructField(\"first_name\", StringType(), False),\n",
    "        StructField(\"last_name\", StringType(), False),\n",
    "        StructField(\"gender\", StringType(), False),\n",
    "        StructField(\"address\", StringType(), False),\n",
    "        StructField(\"post_code\", StringType(), False),\n",
    "        StructField(\"email\", StringType(), False),\n",
    "        StructField(\"username\", StringType(), False),\n",
    "        StructField(\"registered_date\", StringType(), False),\n",
    "        StructField(\"phone\", StringType(), False),\n",
    "        StructField(\"picture\", StringType(), False)\n",
    "    ])\n"
   ]
  },
  {
   "cell_type": "code",
   "execution_count": 22,
   "id": "cf50e203-d9d4-41dd-b367-7cb759a42805",
   "metadata": {},
   "outputs": [],
   "source": [
    "from pyspark.sql.functions import from_json,col\n",
    "streaming_df = kafka_df.selectExpr(\"CAST(value AS STRING)\") \\\n",
    "        .select(from_json(col('value'), schema).alias('data')).select(\"data.*\")"
   ]
  },
  {
   "cell_type": "code",
   "execution_count": 23,
   "id": "c3c29c68-d77e-4efb-a61b-67d6ff4dd667",
   "metadata": {},
   "outputs": [],
   "source": [
    "import logging\n",
    "from cassandra.cluster import Cluster"
   ]
  },
  {
   "cell_type": "code",
   "execution_count": 24,
   "id": "65695e60-b13c-4f35-9cd5-43f60287c2cf",
   "metadata": {},
   "outputs": [],
   "source": [
    "def create_keyspace(session):\n",
    "    session.execute(\"\"\"\n",
    "        CREATE KEYSPACE IF NOT EXISTS spark_streams\n",
    "        WITH replication = {'class': 'SimpleStrategy', 'replication_factor': '1'};\n",
    "    \"\"\")\n",
    "\n",
    "    print(\"Keyspace created successfully!\")"
   ]
  },
  {
   "cell_type": "code",
   "execution_count": 25,
   "id": "c6a943b2-b7b4-4675-b3cf-e6ce386e95da",
   "metadata": {},
   "outputs": [],
   "source": [
    "def create_table(session):\n",
    "    session.execute(\"\"\"\n",
    "    CREATE TABLE IF NOT EXISTS spark_streams.created_users (\n",
    "        first_name TEXT,\n",
    "        last_name TEXT,\n",
    "        gender TEXT,\n",
    "        address TEXT,\n",
    "        post_code TEXT,\n",
    "        email TEXT,\n",
    "        username TEXT,\n",
    "        registered_date TEXT,\n",
    "        phone TEXT,\n",
    "        picture TEXT,\n",
    "        PRIMARY KEY (phone));\n",
    "    \"\"\")\n",
    "\n",
    "    print(\"Table created successfully!\")"
   ]
  },
  {
   "cell_type": "code",
   "execution_count": 26,
   "id": "07d4bf19-3c3e-4248-95cf-c7cf65b19902",
   "metadata": {},
   "outputs": [],
   "source": [
    "def insert_data(session, **kwargs):\n",
    "    print(\"inserting data...\")\n",
    "\n",
    "    first_name = kwargs.get('first_name')\n",
    "    last_name = kwargs.get('last_name')\n",
    "    gender = kwargs.get('gender')\n",
    "    address = kwargs.get('address')\n",
    "    postcode = kwargs.get('post_code')\n",
    "    email = kwargs.get('email')\n",
    "    username = kwargs.get('username')\n",
    "    dob = kwargs.get('dob')\n",
    "    registered_date = kwargs.get('registered_date')\n",
    "    phone = kwargs.get('phone')\n",
    "    picture = kwargs.get('picture')\n",
    "\n",
    "    try:\n",
    "        session.execute(\"\"\"\n",
    "            INSERT INTO spark_streams.created_users(first_name, last_name, gender, address, \n",
    "                post_code, email, username, dob, registered_date, phone, picture)\n",
    "                VALUES (%s, %s, %s, %s, %s, %s, %s, %s, %s, %s, %s)\n",
    "        \"\"\", (first_name, last_name, gender, address,\n",
    "              postcode, email, username, dob, registered_date, phone, picture))\n",
    "        logging.info(f\"Data inserted for {first_name} {last_name}\")\n",
    "\n",
    "    except Exception as e:\n",
    "        logging.error(f'could not insert data due to {e}')"
   ]
  },
  {
   "cell_type": "code",
   "execution_count": 30,
   "id": "3e6bce72-8077-494a-932f-5617b6c47bf6",
   "metadata": {},
   "outputs": [],
   "source": [
    "def create_cassandra_connection():\n",
    "    try:\n",
    "        # connecting to the cassandra cluster\n",
    "        cluster = Cluster(['172.18.0.2'])\n",
    "\n",
    "        cas_session = cluster.connect()\n",
    "\n",
    "        return cas_session\n",
    "    except Exception as e:\n",
    "        logging.error(f\"Could not create cassandra connection due to {e}\")\n",
    "        return None"
   ]
  },
  {
   "cell_type": "code",
   "execution_count": 31,
   "id": "f59ef875-f9f5-40c7-9d52-63059227fed0",
   "metadata": {},
   "outputs": [
    {
     "name": "stdout",
     "output_type": "stream",
     "text": [
      "root\n",
      " |-- first_name: string (nullable = true)\n",
      " |-- last_name: string (nullable = true)\n",
      " |-- gender: string (nullable = true)\n",
      " |-- address: string (nullable = true)\n",
      " |-- post_code: string (nullable = true)\n",
      " |-- email: string (nullable = true)\n",
      " |-- username: string (nullable = true)\n",
      " |-- registered_date: string (nullable = true)\n",
      " |-- phone: string (nullable = true)\n",
      " |-- picture: string (nullable = true)\n",
      "\n"
     ]
    }
   ],
   "source": [
    "# To the schema of the data, place a sample json file and change readStream to read \n",
    "streaming_df.printSchema()\n",
    "#streaming_df.show(truncate=False)"
   ]
  },
  {
   "cell_type": "code",
   "execution_count": null,
   "id": "636f51fe-bed4-428c-acbe-e34d1608f7fe",
   "metadata": {},
   "outputs": [
    {
     "name": "stderr",
     "output_type": "stream",
     "text": [
      "WARNING:cassandra.cluster:Cluster.__init__ called with contact_points specified, but no load_balancing_policy. In the next major version, this will raise an error; please specify a load-balancing policy. (contact_points = ['172.18.0.2'], lbp = None)\n",
      "WARNING:cassandra.cluster:Downgrading core protocol version from 66 to 65 for 172.18.0.2:9042. To avoid this, it is best practice to explicitly set Cluster(protocol_version) to the version supported by your cluster. http://datastax.github.io/python-driver/api/cassandra/cluster.html#cassandra.cluster.Cluster.protocol_version\n",
      "WARNING:cassandra.cluster:Downgrading core protocol version from 65 to 5 for 172.18.0.2:9042. To avoid this, it is best practice to explicitly set Cluster(protocol_version) to the version supported by your cluster. http://datastax.github.io/python-driver/api/cassandra/cluster.html#cassandra.cluster.Cluster.protocol_version\n"
     ]
    },
    {
     "name": "stdout",
     "output_type": "stream",
     "text": [
      "Keyspace created successfully!\n",
      "Table created successfully!\n"
     ]
    }
   ],
   "source": [
    "session = create_cassandra_connection()\n",
    "if session is not None:\n",
    "    create_keyspace(session)\n",
    "    create_table(session)\n",
    "\n",
    "    logging.info(\"Streaming is being started...\")\n",
    "\n",
    "    streaming_query = (streaming_df.writeStream.format(\"org.apache.spark.sql.cassandra\")\n",
    "                               .outputMode(\"append\")\n",
    "                               .option('keyspace', 'spark_streams')\n",
    "                               .option('table', 'created_users')\n",
    "                               .option('checkpointLocation', \"checkpoint_dir_kafka\")\n",
    "                               .start().awaitTermination())\n",
    "\n",
    "    "
   ]
  },
  {
   "cell_type": "code",
   "execution_count": null,
   "id": "dde3cdff-d592-4ca4-bd71-d926a58c603a",
   "metadata": {},
   "outputs": [],
   "source": []
  }
 ],
 "metadata": {
  "kernelspec": {
   "display_name": "Python 3 (ipykernel)",
   "language": "python",
   "name": "python3"
  },
  "language_info": {
   "codemirror_mode": {
    "name": "ipython",
    "version": 3
   },
   "file_extension": ".py",
   "mimetype": "text/x-python",
   "name": "python",
   "nbconvert_exporter": "python",
   "pygments_lexer": "ipython3",
   "version": "3.10.6"
  }
 },
 "nbformat": 4,
 "nbformat_minor": 5
}
